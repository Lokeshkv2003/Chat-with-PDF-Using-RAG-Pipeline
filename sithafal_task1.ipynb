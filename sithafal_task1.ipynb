{
  "nbformat": 4,
  "nbformat_minor": 0,
  "metadata": {
    "colab": {
      "provenance": []
    },
    "kernelspec": {
      "name": "python3",
      "display_name": "Python 3"
    },
    "language_info": {
      "name": "python"
    }
  },
  "cells": [
    {
      "cell_type": "markdown",
      "source": [
        "**STEP 1: EXTRACT THE TEXT FROM THE PDF**"
      ],
      "metadata": {
        "id": "JXr0Bi330JOy"
      }
    },
    {
      "cell_type": "code",
      "execution_count": 7,
      "metadata": {
        "id": "dyA9al-S8y_i",
        "colab": {
          "base_uri": "https://localhost:8080/"
        },
        "outputId": "b963f8f5-4d7a-4a80-8490-7978883d6891"
      },
      "outputs": [
        {
          "output_type": "stream",
          "name": "stdout",
          "text": [
            "Requirement already satisfied: pdfplumber in /usr/local/lib/python3.10/dist-packages (0.11.4)\n",
            "Requirement already satisfied: pdfminer.six==20231228 in /usr/local/lib/python3.10/dist-packages (from pdfplumber) (20231228)\n",
            "Requirement already satisfied: Pillow>=9.1 in /usr/local/lib/python3.10/dist-packages (from pdfplumber) (11.0.0)\n",
            "Requirement already satisfied: pypdfium2>=4.18.0 in /usr/local/lib/python3.10/dist-packages (from pdfplumber) (4.30.0)\n",
            "Requirement already satisfied: charset-normalizer>=2.0.0 in /usr/local/lib/python3.10/dist-packages (from pdfminer.six==20231228->pdfplumber) (3.4.0)\n",
            "Requirement already satisfied: cryptography>=36.0.0 in /usr/local/lib/python3.10/dist-packages (from pdfminer.six==20231228->pdfplumber) (43.0.3)\n",
            "Requirement already satisfied: cffi>=1.12 in /usr/local/lib/python3.10/dist-packages (from cryptography>=36.0.0->pdfminer.six==20231228->pdfplumber) (1.17.1)\n",
            "Requirement already satisfied: pycparser in /usr/local/lib/python3.10/dist-packages (from cffi>=1.12->cryptography>=36.0.0->pdfminer.six==20231228->pdfplumber) (2.22)\n",
            "Requirement already satisfied: pdf2image in /usr/local/lib/python3.10/dist-packages (1.17.0)\n",
            "Requirement already satisfied: pillow in /usr/local/lib/python3.10/dist-packages (from pdf2image) (11.0.0)\n",
            "Requirement already satisfied: pytesseract in /usr/local/lib/python3.10/dist-packages (0.3.13)\n",
            "Requirement already satisfied: packaging>=21.3 in /usr/local/lib/python3.10/dist-packages (from pytesseract) (24.2)\n",
            "Requirement already satisfied: Pillow>=8.0.0 in /usr/local/lib/python3.10/dist-packages (from pytesseract) (11.0.0)\n",
            "PDF downloaded successfully: downloaded_pdf.pdf\n",
            "--- Page 1 ---\n",
            "Tables, Charts, and\n",
            "Graphs\n",
            "with Examples from History, Economics,\n",
            "Education, Psychology, Urban Affairs and\n",
            "Everyday Life\n",
            "REVISED: MICHAEL LOLKUS 2018\n",
            "--- Page 2 ---\n",
            "\n",
            "--- Page 3 ---\n",
            "Tables, Charts, and\n",
            "Graphs Basics\n",
            "--- Page 4 ---\n",
            " We use charts and graphs to visualize data.\n",
            " This data can either be generated data, data gathered from\n",
            "an experiment, or data collected from some source.\n",
            " A picture tells a thousand words so it is not a surprise that\n",
            "many people use charts and graphs when explaining data.\n",
            "--- Page 5 ---\n",
            "Types of Visual\n",
            "Representations of Data\n",
            "--- Page 6 ---\n",
            "Table of Yearly U.S. GDP by\n",
            "Industry (in millions of dollars)\n",
            "Source: U.S. Bureau of Labor Statistics\n",
            "Year 2010 2011 2012 2013 2014 2015\n",
            "All Industries 26093515 27535971 28663246 29601191 30895407 31397023\n",
            "Manufacturing 4992521 5581942 5841608 5953299 6047477 5829554\n",
            "Finance,\n",
            "Insurance, Real\n",
            "4522451 4618678 4797313 5031881 5339678 5597018\n",
            "Estate, Rental,\n",
            "Leasing\n",
            "Arts,\n",
            "Entertainment,\n",
            "Recreation, 964032 1015238 1076249 1120496 1189646 1283813\n",
            "Accommodation,\n",
            "and Food Service\n",
            "Other 15614511 16320113 16948076 17495515 18318606 18686638\n",
            "--- Page 7 ---\n",
            "• The chart below is called a pie chart. It shows what\n",
            "percent “of the pie” a particular category occupies\n",
            "out of the whole.\n",
            "• If total GDP in 2015 is the entire pie, then\n",
            "manufacturing makes up 19% of that pie and finance\n",
            "makes up 18%. Notice that visually speaking, since 19%\n",
            "and 18% are so close to each other in value, their\n",
            "respective slices of the pie are similarly sized.\n",
            "2015 U.S. GDP (in millions of dollars)\n",
            "Manufacturing\n",
            "19%\n",
            "Finance, insurance, real\n",
            "estate, rental, and\n",
            "leasing\n",
            "18% Arts, entertainment,\n",
            "59%\n",
            "recreation,\n",
            "accommodation, and\n",
            "food services\n",
            "Other\n",
            "4%\n",
            "--- Page 8 ---\n",
            " Pie charts can be misleading when the slices do not\n",
            "correspond with the percent contribution to the whole pie.\n",
            " Notice the pie chart below is not very intuitive.\n",
            "--- Page 9 ---\n",
            "Example from Everyday Life\n",
            "The following chart shows how a family spends its yearly income of $31,000.\n",
            "How much money does this family spend on transportation?\n",
            "Family Budget of $31,000\n",
            "19%\n",
            "25%\n",
            "Other\n",
            "Recreation\n",
            "10% Transportation\n",
            "Clothing\n",
            "housing\n",
            "Food\n",
            "15%\n",
            "26%\n",
            "5%\n",
            "--- Page 10 ---\n",
            "Solution\n",
            " The chart indicates that 15% of the income is spent on\n",
            "transportation. We must answer the question: 15% of\n",
            "$31,000 is what?\n",
            " Writing as an equation and solving, we get\n",
            " n = 0.15 x 31,000 = 4650\n",
            " So the family spends $4650 on transportation yearly.\n",
            "--- Page 11 ---\n",
            "• The graph below is called a bar graph.\n",
            "• It shows each of the variables independent of each other, each\n",
            "with its own bar.\n",
            "• 2015 GDP for all industries was $31.397023; looking at the graph,\n",
            "the bar for all industries is just above $30.\n",
            "• One is still be able compare each variable with the other by\n",
            "comparing bars.\n",
            "2015 GDP (in trillions of dollars)\n",
            "Other\n",
            "Arts, entertainment, recreation, accommodation, and food\n",
            "services\n",
            "Finance, insurance, real estate, rental, and leasing\n",
            "Manufacturing\n",
            "All industries\n",
            "0 5 10 15 20 25 30 35\n",
            "Dollars\n",
            "--- Page 12 ---\n",
            "• The graph below is called a line graph. It shows how a variable\n",
            "evolves with respect to another variable. In the line graph below, we\n",
            "show how GDP has evolved by year.\n",
            "35\n",
            "30\n",
            "25\n",
            "20\n",
            "15\n",
            "10\n",
            "5\n",
            "0\n",
            "sralloD\n",
            "7491 0591 3591 6591 9591 2691 5691 8691 1791 4791 7791 0891 3891 6891 9891 2991 5991 8991 1002 4002 7002 0102 3102\n",
            "Yearly Total GDP (in trillions of dollars)\n",
            "Yearly Total GDP\n",
            "Year\n",
            "--- Page 13 ---\n",
            "When to use a Line Graph, Pie\n",
            "Chart, or Bar Graph?\n",
            "We use the pie chart here to compare parts of a whole.\n",
            "\n",
            "In our example, we compared components of US GDP.\n",
            "The line chart is useful when you want to show how a\n",
            "\n",
            "variable changes over time. For our purposes, we used it\n",
            "show how GDP changed over time.\n",
            "Bar graphs are good for comparing different groups of\n",
            "\n",
            "variables. We used it to compare different components\n",
            "of US GDP. We did the same with the pie chart;\n",
            "depending on your purposes you may choose to use a\n",
            "pie chart or a bar graph.\n",
            "--- Page 14 ---\n",
            "• If given a table of data, we should be able to plot it. Below is\n",
            "some sample data; plot the data with x on the x-axis and y on the\n",
            "y-axis.\n",
            "x y\n",
            "0 0\n",
            "1 3\n",
            "2 6\n",
            "3 9\n",
            "4 12\n",
            "5 15\n",
            "6 18\n",
            "7 21\n",
            "8 24\n",
            "--- Page 15 ---\n",
            "• Below is a plot of the data on the table from the previous\n",
            "slide. Notice that this plot is a straight line meaning that a\n",
            "linear equation must have generated this data.\n",
            "• What if the data is not generated by a linear equation? We can\n",
            "fit the data using a linear regression and use that line as an\n",
            "approximation to the data. Regressions are beyond the scope of\n",
            "this workshop.\n",
            "30\n",
            "25\n",
            "20\n",
            "15\n",
            "10\n",
            "5\n",
            "0\n",
            "0 1 2 3 4 5 6 7 8\n",
            "--- Page 16 ---\n",
            "Example from Urban Affairs\n",
            " What kind of bar graph is this?\n",
            " Whose life expectancy has changed the most since 1925?\n",
            " In 1925, about how much longer was a woman expected\n",
            "to live than a man?\n",
            "--- Page 17 ---\n",
            "Example from History\n",
            "In what years were the affiliations for\n",
            "Republicans and Independents the\n",
            "same?\n",
            "During what time period did the\n",
            "party affiliations have the most\n",
            "change?\n",
            "--- Page 18 ---\n",
            "Example from Education\n",
            "What percent of the total\n",
            "class received grades of 72 or\n",
            "77?\n",
            "Which grade showed the\n",
            "largest difference between\n",
            "males and females?\n",
            "--- Page 19 ---\n",
            "Example from Psychology\n",
            "What do you notice\n",
            "is different in this\n",
            "graph than the\n",
            "others reviewed so\n",
            "far?\n"
          ]
        }
      ],
      "source": [
        "!pip install pdfplumber\n",
        "!pip install pdf2image\n",
        "!pip install pytesseract\n",
        "import requests\n",
        "import pdfplumber\n",
        "from pdf2image import convert_from_path\n",
        "import pytesseract\n",
        "\n",
        "def download_pdf(url, save_path):\n",
        "    response = requests.get(url)\n",
        "    if response.status_code == 200:\n",
        "        with open(save_path, 'wb') as f:\n",
        "            f.write(response.content)\n",
        "        print(f\"PDF downloaded successfully: {save_path}\")\n",
        "    else:\n",
        "        print(f\"Failed to download PDF. Status code: {response.status_code}\")\n",
        "\n",
        "# Function to extract text using pdfplumber\n",
        "def extract_text_with_pdfplumber(pdf_path):\n",
        "    extracted_text = {}\n",
        "    with pdfplumber.open(pdf_path) as pdf:\n",
        "        for page_number, page in enumerate(pdf.pages, start=1):\n",
        "            extracted_text[page_number] = page.extract_text()\n",
        "    return extracted_text\n",
        "\n",
        "# Fallback function to use OCR if pdfplumber fails\n",
        "def extract_text_with_ocr(pdf_path):\n",
        "    images = convert_from_path(pdf_path)\n",
        "    ocr_text = {}\n",
        "    for i, image in enumerate(images):\n",
        "        text = pytesseract.image_to_string(image, lang='eng')\n",
        "        ocr_text[i + 1] = text\n",
        "    return ocr_text\n",
        "\n",
        "# URL of the PDF\n",
        "pdf_url = \"https://www.hunter.cuny.edu/dolciani/pdf_files/workshop-materials/mmc-presentations/tables-charts-and-graphs-with-examples-from.pdf\"\n",
        "local_pdf_path = \"downloaded_pdf.pdf\"\n",
        "\n",
        "# Step 1: Download the PDF\n",
        "download_pdf(pdf_url, local_pdf_path)\n",
        "\n",
        "# Step 2: Attempt to extract text with pdfplumber\n",
        "plumber_text = extract_text_with_pdfplumber(local_pdf_path)\n",
        "\n",
        "# Step 3: Check if text was extracted; if not, use OCR\n",
        "if all(not text for text in plumber_text.values()):  # If no text extracted\n",
        "    print(\"Text extraction failed with pdfplumber. Switching to OCR...\")\n",
        "    ocr_text = extract_text_with_ocr(local_pdf_path)\n",
        "    for page, text in ocr_text.items():\n",
        "        print(f\"--- Page {page} ---\")\n",
        "        print(text)\n",
        "else:\n",
        "    for page, text in plumber_text.items():\n",
        "        print(f\"--- Page {page} ---\")\n",
        "        print(text)\n"
      ]
    },
    {
      "cell_type": "code",
      "source": [
        "print(plumber_text)"
      ],
      "metadata": {
        "id": "yVAjGd2mBn-m",
        "colab": {
          "base_uri": "https://localhost:8080/"
        },
        "outputId": "5f74b759-85f4-49e1-c03b-2835090faa61"
      },
      "execution_count": 8,
      "outputs": [
        {
          "output_type": "stream",
          "name": "stdout",
          "text": [
            "{1: 'Tables, Charts, and\\nGraphs\\nwith Examples from History, Economics,\\nEducation, Psychology, Urban Affairs and\\nEveryday Life\\nREVISED: MICHAEL LOLKUS 2018', 2: '', 3: 'Tables, Charts, and\\nGraphs Basics', 4: '\\uf075 We use charts and graphs to visualize data.\\n\\uf075 This data can either be generated data, data gathered from\\nan experiment, or data collected from some source.\\n\\uf075 A picture tells a thousand words so it is not a surprise that\\nmany people use charts and graphs when explaining data.', 5: 'Types of Visual\\nRepresentations of Data', 6: 'Table of Yearly U.S. GDP by\\nIndustry (in millions of dollars)\\nSource: U.S. Bureau of Labor Statistics\\nYear 2010 2011 2012 2013 2014 2015\\nAll Industries 26093515 27535971 28663246 29601191 30895407 31397023\\nManufacturing 4992521 5581942 5841608 5953299 6047477 5829554\\nFinance,\\nInsurance, Real\\n4522451 4618678 4797313 5031881 5339678 5597018\\nEstate, Rental,\\nLeasing\\nArts,\\nEntertainment,\\nRecreation, 964032 1015238 1076249 1120496 1189646 1283813\\nAccommodation,\\nand Food Service\\nOther 15614511 16320113 16948076 17495515 18318606 18686638', 7: '• The chart below is called a pie chart. It shows what\\npercent “of the pie” a particular category occupies\\nout of the whole.\\n• If total GDP in 2015 is the entire pie, then\\nmanufacturing makes up 19% of that pie and finance\\nmakes up 18%. Notice that visually speaking, since 19%\\nand 18% are so close to each other in value, their\\nrespective slices of the pie are similarly sized.\\n2015 U.S. GDP (in millions of dollars)\\nManufacturing\\n19%\\nFinance, insurance, real\\nestate, rental, and\\nleasing\\n18% Arts, entertainment,\\n59%\\nrecreation,\\naccommodation, and\\nfood services\\nOther\\n4%', 8: '\\uf075 Pie charts can be misleading when the slices do not\\ncorrespond with the percent contribution to the whole pie.\\n\\uf075 Notice the pie chart below is not very intuitive.', 9: 'Example from Everyday Life\\nThe following chart shows how a family spends its yearly income of $31,000.\\nHow much money does this family spend on transportation?\\nFamily Budget of $31,000\\n19%\\n25%\\nOther\\nRecreation\\n10% Transportation\\nClothing\\nhousing\\nFood\\n15%\\n26%\\n5%', 10: 'Solution\\n\\uf075 The chart indicates that 15% of the income is spent on\\ntransportation. We must answer the question: 15% of\\n$31,000 is what?\\n\\uf075 Writing as an equation and solving, we get\\n\\uf075 n = 0.15 x 31,000 = 4650\\n\\uf075 So the family spends $4650 on transportation yearly.', 11: '• The graph below is called a bar graph.\\n• It shows each of the variables independent of each other, each\\nwith its own bar.\\n• 2015 GDP for all industries was $31.397023; looking at the graph,\\nthe bar for all industries is just above $30.\\n• One is still be able compare each variable with the other by\\ncomparing bars.\\n2015 GDP (in trillions of dollars)\\nOther\\nArts, entertainment, recreation, accommodation, and food\\nservices\\nFinance, insurance, real estate, rental, and leasing\\nManufacturing\\nAll industries\\n0 5 10 15 20 25 30 35\\nDollars', 12: '• The graph below is called a line graph. It shows how a variable\\nevolves with respect to another variable. In the line graph below, we\\nshow how GDP has evolved by year.\\n35\\n30\\n25\\n20\\n15\\n10\\n5\\n0\\nsralloD\\n7491 0591 3591 6591 9591 2691 5691 8691 1791 4791 7791 0891 3891 6891 9891 2991 5991 8991 1002 4002 7002 0102 3102\\nYearly Total GDP (in trillions of dollars)\\nYearly Total GDP\\nYear', 13: 'When to use a Line Graph, Pie\\nChart, or Bar Graph?\\nWe use the pie chart here to compare parts of a whole.\\n\\uf075\\nIn our example, we compared components of US GDP.\\nThe line chart is useful when you want to show how a\\n\\uf075\\nvariable changes over time. For our purposes, we used it\\nshow how GDP changed over time.\\nBar graphs are good for comparing different groups of\\n\\uf075\\nvariables. We used it to compare different components\\nof US GDP. We did the same with the pie chart;\\ndepending on your purposes you may choose to use a\\npie chart or a bar graph.', 14: '• If given a table of data, we should be able to plot it. Below is\\nsome sample data; plot the data with x on the x-axis and y on the\\ny-axis.\\nx y\\n0 0\\n1 3\\n2 6\\n3 9\\n4 12\\n5 15\\n6 18\\n7 21\\n8 24', 15: '• Below is a plot of the data on the table from the previous\\nslide. Notice that this plot is a straight line meaning that a\\nlinear equation must have generated this data.\\n• What if the data is not generated by a linear equation? We can\\nfit the data using a linear regression and use that line as an\\napproximation to the data. Regressions are beyond the scope of\\nthis workshop.\\n30\\n25\\n20\\n15\\n10\\n5\\n0\\n0 1 2 3 4 5 6 7 8', 16: 'Example from Urban Affairs\\n\\uf075 What kind of bar graph is this?\\n\\uf075 Whose life expectancy has changed the most since 1925?\\n\\uf075 In 1925, about how much longer was a woman expected\\nto live than a man?', 17: 'Example from History\\nIn what years were the affiliations for\\nRepublicans and Independents the\\nsame?\\nDuring what time period did the\\nparty affiliations have the most\\nchange?', 18: 'Example from Education\\nWhat percent of the total\\nclass received grades of 72 or\\n77?\\nWhich grade showed the\\nlargest difference between\\nmales and females?', 19: 'Example from Psychology\\nWhat do you notice\\nis different in this\\ngraph than the\\nothers reviewed so\\nfar?'}\n"
          ]
        }
      ]
    },
    {
      "cell_type": "markdown",
      "source": [
        "***STEP 2: DIVIDE INTO CHUCKS***\n",
        "\n"
      ],
      "metadata": {
        "id": "90X7kRxC1LuR"
      }
    },
    {
      "cell_type": "code",
      "source": [
        "import nltk\n",
        "from nltk.tokenize import sent_tokenize\n",
        "\n",
        "nltk.download('punkt_tab')\n",
        "\n",
        "def segment_text(text):\n",
        "    chunks = sent_tokenize(text)\n",
        "    return chunks\n",
        "\n",
        "chunks = [segment_text(page) for page in plumber_text.values()]"
      ],
      "metadata": {
        "id": "hSPWA9iJ9gIS",
        "colab": {
          "base_uri": "https://localhost:8080/"
        },
        "outputId": "7dbff67d-e3f0-4955-99af-1e32cbeadfff"
      },
      "execution_count": 9,
      "outputs": [
        {
          "output_type": "stream",
          "name": "stderr",
          "text": [
            "[nltk_data] Downloading package punkt_tab to /root/nltk_data...\n",
            "[nltk_data]   Package punkt_tab is already up-to-date!\n"
          ]
        }
      ]
    },
    {
      "cell_type": "code",
      "source": [
        "print(chunks)"
      ],
      "metadata": {
        "id": "YBbeGJgF9gUZ",
        "colab": {
          "base_uri": "https://localhost:8080/"
        },
        "outputId": "807e09bb-a47d-4b4a-f8db-8bf4933635a6"
      },
      "execution_count": 10,
      "outputs": [
        {
          "output_type": "stream",
          "name": "stdout",
          "text": [
            "[['Tables, Charts, and\\nGraphs\\nwith Examples from History, Economics,\\nEducation, Psychology, Urban Affairs and\\nEveryday Life\\nREVISED: MICHAEL LOLKUS 2018'], [], ['Tables, Charts, and\\nGraphs Basics'], ['\\uf075 We use charts and graphs to visualize data.', '\\uf075 This data can either be generated data, data gathered from\\nan experiment, or data collected from some source.', '\\uf075 A picture tells a thousand words so it is not a surprise that\\nmany people use charts and graphs when explaining data.'], ['Types of Visual\\nRepresentations of Data'], ['Table of Yearly U.S. GDP by\\nIndustry (in millions of dollars)\\nSource: U.S. Bureau of Labor Statistics\\nYear 2010 2011 2012 2013 2014 2015\\nAll Industries 26093515 27535971 28663246 29601191 30895407 31397023\\nManufacturing 4992521 5581942 5841608 5953299 6047477 5829554\\nFinance,\\nInsurance, Real\\n4522451 4618678 4797313 5031881 5339678 5597018\\nEstate, Rental,\\nLeasing\\nArts,\\nEntertainment,\\nRecreation, 964032 1015238 1076249 1120496 1189646 1283813\\nAccommodation,\\nand Food Service\\nOther 15614511 16320113 16948076 17495515 18318606 18686638'], ['• The chart below is called a pie chart.', 'It shows what\\npercent “of the pie” a particular category occupies\\nout of the whole.', '• If total GDP in 2015 is the entire pie, then\\nmanufacturing makes up 19% of that pie and finance\\nmakes up 18%.', 'Notice that visually speaking, since 19%\\nand 18% are so close to each other in value, their\\nrespective slices of the pie are similarly sized.', '2015 U.S. GDP (in millions of dollars)\\nManufacturing\\n19%\\nFinance, insurance, real\\nestate, rental, and\\nleasing\\n18% Arts, entertainment,\\n59%\\nrecreation,\\naccommodation, and\\nfood services\\nOther\\n4%'], ['\\uf075 Pie charts can be misleading when the slices do not\\ncorrespond with the percent contribution to the whole pie.', '\\uf075 Notice the pie chart below is not very intuitive.'], ['Example from Everyday Life\\nThe following chart shows how a family spends its yearly income of $31,000.', 'How much money does this family spend on transportation?', 'Family Budget of $31,000\\n19%\\n25%\\nOther\\nRecreation\\n10% Transportation\\nClothing\\nhousing\\nFood\\n15%\\n26%\\n5%'], ['Solution\\n\\uf075 The chart indicates that 15% of the income is spent on\\ntransportation.', 'We must answer the question: 15% of\\n$31,000 is what?', '\\uf075 Writing as an equation and solving, we get\\n\\uf075 n = 0.15 x 31,000 = 4650\\n\\uf075 So the family spends $4650 on transportation yearly.'], ['• The graph below is called a bar graph.', '• It shows each of the variables independent of each other, each\\nwith its own bar.', '• 2015 GDP for all industries was $31.397023; looking at the graph,\\nthe bar for all industries is just above $30.', '• One is still be able compare each variable with the other by\\ncomparing bars.', '2015 GDP (in trillions of dollars)\\nOther\\nArts, entertainment, recreation, accommodation, and food\\nservices\\nFinance, insurance, real estate, rental, and leasing\\nManufacturing\\nAll industries\\n0 5 10 15 20 25 30 35\\nDollars'], ['• The graph below is called a line graph.', 'It shows how a variable\\nevolves with respect to another variable.', 'In the line graph below, we\\nshow how GDP has evolved by year.', '35\\n30\\n25\\n20\\n15\\n10\\n5\\n0\\nsralloD\\n7491 0591 3591 6591 9591 2691 5691 8691 1791 4791 7791 0891 3891 6891 9891 2991 5991 8991 1002 4002 7002 0102 3102\\nYearly Total GDP (in trillions of dollars)\\nYearly Total GDP\\nYear'], ['When to use a Line Graph, Pie\\nChart, or Bar Graph?', 'We use the pie chart here to compare parts of a whole.', '\\uf075\\nIn our example, we compared components of US GDP.', 'The line chart is useful when you want to show how a\\n\\uf075\\nvariable changes over time.', 'For our purposes, we used it\\nshow how GDP changed over time.', 'Bar graphs are good for comparing different groups of\\n\\uf075\\nvariables.', 'We used it to compare different components\\nof US GDP.', 'We did the same with the pie chart;\\ndepending on your purposes you may choose to use a\\npie chart or a bar graph.'], ['• If given a table of data, we should be able to plot it.', 'Below is\\nsome sample data; plot the data with x on the x-axis and y on the\\ny-axis.', 'x y\\n0 0\\n1 3\\n2 6\\n3 9\\n4 12\\n5 15\\n6 18\\n7 21\\n8 24'], ['• Below is a plot of the data on the table from the previous\\nslide.', 'Notice that this plot is a straight line meaning that a\\nlinear equation must have generated this data.', '• What if the data is not generated by a linear equation?', 'We can\\nfit the data using a linear regression and use that line as an\\napproximation to the data.', 'Regressions are beyond the scope of\\nthis workshop.', '30\\n25\\n20\\n15\\n10\\n5\\n0\\n0 1 2 3 4 5 6 7 8'], ['Example from Urban Affairs\\n\\uf075 What kind of bar graph is this?', '\\uf075 Whose life expectancy has changed the most since 1925?', '\\uf075 In 1925, about how much longer was a woman expected\\nto live than a man?'], ['Example from History\\nIn what years were the affiliations for\\nRepublicans and Independents the\\nsame?', 'During what time period did the\\nparty affiliations have the most\\nchange?'], ['Example from Education\\nWhat percent of the total\\nclass received grades of 72 or\\n77?', 'Which grade showed the\\nlargest difference between\\nmales and females?'], ['Example from Psychology\\nWhat do you notice\\nis different in this\\ngraph than the\\nothers reviewed so\\nfar?']]\n"
          ]
        }
      ]
    },
    {
      "cell_type": "markdown",
      "source": [
        "***STEP 3: EMBED THE TEXT***"
      ],
      "metadata": {
        "id": "cmL71l6a1jVK"
      }
    },
    {
      "cell_type": "code",
      "source": [
        "from sentence_transformers import SentenceTransformer\n",
        "\n",
        "model = SentenceTransformer('all-MiniLM-L6-v2')\n",
        "\n",
        "def generate_embeddings(chunks):\n",
        "    embeddings = model.encode(chunks, convert_to_tensor=True)\n",
        "    return embeddings\n",
        "flat_chunks = [chunk for page_chunks in chunks for chunk in page_chunks]\n",
        "embeddings = generate_embeddings(flat_chunks)\n"
      ],
      "metadata": {
        "id": "xy7A7Dz39gat",
        "colab": {
          "base_uri": "https://localhost:8080/"
        },
        "outputId": "82925169-afb4-4f9c-dc00-85399763b884"
      },
      "execution_count": 11,
      "outputs": [
        {
          "output_type": "stream",
          "name": "stderr",
          "text": [
            "/usr/local/lib/python3.10/dist-packages/sentence_transformers/cross_encoder/CrossEncoder.py:13: TqdmExperimentalWarning: Using `tqdm.autonotebook.tqdm` in notebook mode. Use `tqdm.tqdm` instead to force console mode (e.g. in jupyter console)\n",
            "  from tqdm.autonotebook import tqdm, trange\n",
            "/usr/local/lib/python3.10/dist-packages/huggingface_hub/utils/_auth.py:94: UserWarning: \n",
            "The secret `HF_TOKEN` does not exist in your Colab secrets.\n",
            "To authenticate with the Hugging Face Hub, create a token in your settings tab (https://huggingface.co/settings/tokens), set it as secret in your Google Colab and restart your session.\n",
            "You will be able to reuse this secret in all of your notebooks.\n",
            "Please note that authentication is recommended but still optional to access public models or datasets.\n",
            "  warnings.warn(\n"
          ]
        }
      ]
    },
    {
      "cell_type": "code",
      "source": [
        "print(embeddings)\n"
      ],
      "metadata": {
        "id": "yuicOmv59gdi",
        "colab": {
          "base_uri": "https://localhost:8080/"
        },
        "outputId": "40f2d5dd-5e46-4d82-9146-dbd0662fd4fd"
      },
      "execution_count": 12,
      "outputs": [
        {
          "output_type": "stream",
          "name": "stdout",
          "text": [
            "tensor([[ 0.1010, -0.0341,  0.0138,  ...,  0.0192, -0.0571,  0.0476],\n",
            "        [ 0.0133, -0.0165, -0.0226,  ...,  0.0410, -0.0189, -0.0785],\n",
            "        [ 0.0623, -0.0066, -0.0302,  ..., -0.0133, -0.0026, -0.0922],\n",
            "        ...,\n",
            "        [ 0.0678,  0.0643, -0.0673,  ...,  0.0209,  0.0322,  0.0086],\n",
            "        [ 0.0447,  0.0492, -0.0442,  ..., -0.0145,  0.0371, -0.0250],\n",
            "        [ 0.0202,  0.0019, -0.0224,  ...,  0.0410, -0.0240, -0.0318]])\n"
          ]
        }
      ]
    },
    {
      "cell_type": "code",
      "source": [
        "pip install faiss-gpu"
      ],
      "metadata": {
        "id": "T8ZcgIzx9ggs",
        "colab": {
          "base_uri": "https://localhost:8080/"
        },
        "outputId": "cd56b7d0-0038-4468-9be9-325003f619ee"
      },
      "execution_count": 13,
      "outputs": [
        {
          "output_type": "stream",
          "name": "stdout",
          "text": [
            "Requirement already satisfied: faiss-gpu in /usr/local/lib/python3.10/dist-packages (1.7.2)\n"
          ]
        }
      ]
    },
    {
      "cell_type": "code",
      "source": [
        "import faiss\n",
        "import numpy as np\n",
        "import torch\n",
        "# Create FAISS index if embeddings are not empty\n",
        "dimension = embeddings[0].shape[0]\n",
        "index = faiss.IndexFlatL2(dimension)\n",
        "# Convert embeddings to NumPy array\n",
        "index.add(embeddings.cpu().numpy())\n",
        "# Metadata mapping\n",
        "metadata = {i: flat_chunks[i] for i in range(len(flat_chunks))}\n"
      ],
      "metadata": {
        "id": "58OpeHeu9gjZ"
      },
      "execution_count": 14,
      "outputs": []
    },
    {
      "cell_type": "code",
      "source": [
        "print(metadata)"
      ],
      "metadata": {
        "id": "VkgcCnHd9gmG",
        "colab": {
          "base_uri": "https://localhost:8080/"
        },
        "outputId": "321fecf3-1503-4e4f-897b-838eaca3ab6e"
      },
      "execution_count": 15,
      "outputs": [
        {
          "output_type": "stream",
          "name": "stdout",
          "text": [
            "{0: 'Tables, Charts, and\\nGraphs\\nwith Examples from History, Economics,\\nEducation, Psychology, Urban Affairs and\\nEveryday Life\\nREVISED: MICHAEL LOLKUS 2018', 1: 'Tables, Charts, and\\nGraphs Basics', 2: '\\uf075 We use charts and graphs to visualize data.', 3: '\\uf075 This data can either be generated data, data gathered from\\nan experiment, or data collected from some source.', 4: '\\uf075 A picture tells a thousand words so it is not a surprise that\\nmany people use charts and graphs when explaining data.', 5: 'Types of Visual\\nRepresentations of Data', 6: 'Table of Yearly U.S. GDP by\\nIndustry (in millions of dollars)\\nSource: U.S. Bureau of Labor Statistics\\nYear 2010 2011 2012 2013 2014 2015\\nAll Industries 26093515 27535971 28663246 29601191 30895407 31397023\\nManufacturing 4992521 5581942 5841608 5953299 6047477 5829554\\nFinance,\\nInsurance, Real\\n4522451 4618678 4797313 5031881 5339678 5597018\\nEstate, Rental,\\nLeasing\\nArts,\\nEntertainment,\\nRecreation, 964032 1015238 1076249 1120496 1189646 1283813\\nAccommodation,\\nand Food Service\\nOther 15614511 16320113 16948076 17495515 18318606 18686638', 7: '• The chart below is called a pie chart.', 8: 'It shows what\\npercent “of the pie” a particular category occupies\\nout of the whole.', 9: '• If total GDP in 2015 is the entire pie, then\\nmanufacturing makes up 19% of that pie and finance\\nmakes up 18%.', 10: 'Notice that visually speaking, since 19%\\nand 18% are so close to each other in value, their\\nrespective slices of the pie are similarly sized.', 11: '2015 U.S. GDP (in millions of dollars)\\nManufacturing\\n19%\\nFinance, insurance, real\\nestate, rental, and\\nleasing\\n18% Arts, entertainment,\\n59%\\nrecreation,\\naccommodation, and\\nfood services\\nOther\\n4%', 12: '\\uf075 Pie charts can be misleading when the slices do not\\ncorrespond with the percent contribution to the whole pie.', 13: '\\uf075 Notice the pie chart below is not very intuitive.', 14: 'Example from Everyday Life\\nThe following chart shows how a family spends its yearly income of $31,000.', 15: 'How much money does this family spend on transportation?', 16: 'Family Budget of $31,000\\n19%\\n25%\\nOther\\nRecreation\\n10% Transportation\\nClothing\\nhousing\\nFood\\n15%\\n26%\\n5%', 17: 'Solution\\n\\uf075 The chart indicates that 15% of the income is spent on\\ntransportation.', 18: 'We must answer the question: 15% of\\n$31,000 is what?', 19: '\\uf075 Writing as an equation and solving, we get\\n\\uf075 n = 0.15 x 31,000 = 4650\\n\\uf075 So the family spends $4650 on transportation yearly.', 20: '• The graph below is called a bar graph.', 21: '• It shows each of the variables independent of each other, each\\nwith its own bar.', 22: '• 2015 GDP for all industries was $31.397023; looking at the graph,\\nthe bar for all industries is just above $30.', 23: '• One is still be able compare each variable with the other by\\ncomparing bars.', 24: '2015 GDP (in trillions of dollars)\\nOther\\nArts, entertainment, recreation, accommodation, and food\\nservices\\nFinance, insurance, real estate, rental, and leasing\\nManufacturing\\nAll industries\\n0 5 10 15 20 25 30 35\\nDollars', 25: '• The graph below is called a line graph.', 26: 'It shows how a variable\\nevolves with respect to another variable.', 27: 'In the line graph below, we\\nshow how GDP has evolved by year.', 28: '35\\n30\\n25\\n20\\n15\\n10\\n5\\n0\\nsralloD\\n7491 0591 3591 6591 9591 2691 5691 8691 1791 4791 7791 0891 3891 6891 9891 2991 5991 8991 1002 4002 7002 0102 3102\\nYearly Total GDP (in trillions of dollars)\\nYearly Total GDP\\nYear', 29: 'When to use a Line Graph, Pie\\nChart, or Bar Graph?', 30: 'We use the pie chart here to compare parts of a whole.', 31: '\\uf075\\nIn our example, we compared components of US GDP.', 32: 'The line chart is useful when you want to show how a\\n\\uf075\\nvariable changes over time.', 33: 'For our purposes, we used it\\nshow how GDP changed over time.', 34: 'Bar graphs are good for comparing different groups of\\n\\uf075\\nvariables.', 35: 'We used it to compare different components\\nof US GDP.', 36: 'We did the same with the pie chart;\\ndepending on your purposes you may choose to use a\\npie chart or a bar graph.', 37: '• If given a table of data, we should be able to plot it.', 38: 'Below is\\nsome sample data; plot the data with x on the x-axis and y on the\\ny-axis.', 39: 'x y\\n0 0\\n1 3\\n2 6\\n3 9\\n4 12\\n5 15\\n6 18\\n7 21\\n8 24', 40: '• Below is a plot of the data on the table from the previous\\nslide.', 41: 'Notice that this plot is a straight line meaning that a\\nlinear equation must have generated this data.', 42: '• What if the data is not generated by a linear equation?', 43: 'We can\\nfit the data using a linear regression and use that line as an\\napproximation to the data.', 44: 'Regressions are beyond the scope of\\nthis workshop.', 45: '30\\n25\\n20\\n15\\n10\\n5\\n0\\n0 1 2 3 4 5 6 7 8', 46: 'Example from Urban Affairs\\n\\uf075 What kind of bar graph is this?', 47: '\\uf075 Whose life expectancy has changed the most since 1925?', 48: '\\uf075 In 1925, about how much longer was a woman expected\\nto live than a man?', 49: 'Example from History\\nIn what years were the affiliations for\\nRepublicans and Independents the\\nsame?', 50: 'During what time period did the\\nparty affiliations have the most\\nchange?', 51: 'Example from Education\\nWhat percent of the total\\nclass received grades of 72 or\\n77?', 52: 'Which grade showed the\\nlargest difference between\\nmales and females?', 53: 'Example from Psychology\\nWhat do you notice\\nis different in this\\ngraph than the\\nothers reviewed so\\nfar?'}\n"
          ]
        }
      ]
    },
    {
      "cell_type": "code",
      "source": [
        "!sudo apt-get update\n",
        "!sudo apt-get install -y tesseract-ocr\n",
        "!pip install pytesseract pdf2image\n"
      ],
      "metadata": {
        "id": "4Mlr0Y89IeEb",
        "colab": {
          "base_uri": "https://localhost:8080/"
        },
        "outputId": "9334d331-da6c-404f-c826-8f045b857283"
      },
      "execution_count": 16,
      "outputs": [
        {
          "output_type": "stream",
          "name": "stdout",
          "text": [
            "\r0% [Working]\r            \rHit:1 https://cloud.r-project.org/bin/linux/ubuntu jammy-cran40/ InRelease\n",
            "Hit:2 https://developer.download.nvidia.com/compute/cuda/repos/ubuntu2204/x86_64  InRelease\n",
            "Hit:3 http://security.ubuntu.com/ubuntu jammy-security InRelease\n",
            "Hit:4 http://archive.ubuntu.com/ubuntu jammy InRelease\n",
            "Hit:5 https://r2u.stat.illinois.edu/ubuntu jammy InRelease\n",
            "Hit:6 http://archive.ubuntu.com/ubuntu jammy-updates InRelease\n",
            "Hit:7 http://archive.ubuntu.com/ubuntu jammy-backports InRelease\n",
            "Hit:8 https://ppa.launchpadcontent.net/deadsnakes/ppa/ubuntu jammy InRelease\n",
            "Hit:9 https://ppa.launchpadcontent.net/graphics-drivers/ppa/ubuntu jammy InRelease\n",
            "Hit:10 https://ppa.launchpadcontent.net/ubuntugis/ppa/ubuntu jammy InRelease\n",
            "Reading package lists... Done\n",
            "W: Skipping acquire of configured file 'main/source/Sources' as repository 'https://r2u.stat.illinois.edu/ubuntu jammy InRelease' does not seem to provide it (sources.list entry misspelt?)\n",
            "Reading package lists... Done\n",
            "Building dependency tree... Done\n",
            "Reading state information... Done\n",
            "tesseract-ocr is already the newest version (4.1.1-2.1build1).\n",
            "0 upgraded, 0 newly installed, 0 to remove and 56 not upgraded.\n",
            "Requirement already satisfied: pytesseract in /usr/local/lib/python3.10/dist-packages (0.3.13)\n",
            "Requirement already satisfied: pdf2image in /usr/local/lib/python3.10/dist-packages (1.17.0)\n",
            "Requirement already satisfied: packaging>=21.3 in /usr/local/lib/python3.10/dist-packages (from pytesseract) (24.2)\n",
            "Requirement already satisfied: Pillow>=8.0.0 in /usr/local/lib/python3.10/dist-packages (from pytesseract) (11.0.0)\n"
          ]
        }
      ]
    },
    {
      "cell_type": "markdown",
      "source": [
        "***QUERY 1: From page 2 get the exact unemployment information***"
      ],
      "metadata": {
        "id": "7rFmPXFv815U"
      }
    },
    {
      "cell_type": "code",
      "source": [
        "import pytesseract\n",
        "from pdf2image import convert_from_path\n",
        "import re\n",
        "from google.colab import files\n",
        "\n",
        "pytesseract.pytesseract.tesseract_cmd = \"/usr/bin/tesseract\"\n",
        "\n",
        "def convert_page_to_image(pdf_path, page_number):\n",
        "    images = convert_from_path(pdf_path, first_page=page_number, last_page=page_number)\n",
        "    return images[0]\n",
        "\n",
        "# Function to perform OCR and extract text from the image\n",
        "def extract_text_with_ocr(image):\n",
        "    return pytesseract.image_to_string(image, lang=\"eng\")\n",
        "\n",
        "def get_unemployment_info(text, degree_type):\n",
        "    pattern = rf\"{degree_type}[:\\s-]*?(\\d+\\.?\\d*)%\"\n",
        "    match = re.search(pattern, text, re.IGNORECASE)\n",
        "    if match:\n",
        "        return f\"{degree_type}: {match.group(1)}%\"\n",
        "    else:\n",
        "        return f\"Unemployment data for {degree_type} not found.\"\n",
        "pdf_path=\"downloaded_pdf.pdf\"\n",
        "page_number = 2\n",
        "page_image = convert_page_to_image(pdf_path, page_number)\n",
        "\n",
        "page_text = extract_text_with_ocr(page_image)\n",
        "degree_type_input = \"All workers\"\n",
        "unemployment_info = get_unemployment_info(page_text, degree_type_input)\n",
        "\n",
        "print(\"\\n--- Unemployment Data ---\")\n",
        "print(unemployment_info)\n"
      ],
      "metadata": {
        "id": "NY3aqVraKqor",
        "colab": {
          "base_uri": "https://localhost:8080/"
        },
        "outputId": "e5648a4b-c69f-4acb-afc5-82c9c357aa3b"
      },
      "execution_count": 17,
      "outputs": [
        {
          "output_type": "stream",
          "name": "stdout",
          "text": [
            "\n",
            "--- Unemployment Data ---\n",
            "All workers: 6.1%\n"
          ]
        }
      ]
    },
    {
      "cell_type": "markdown",
      "source": [
        "***QUERY 2: From page 6 get the tabular data***"
      ],
      "metadata": {
        "id": "nyAy5tdD9H0u"
      }
    },
    {
      "cell_type": "code",
      "source": [
        "import pandas as pd\n",
        "\n",
        "def extract_table_from_pdf(pdf_path, page_number):\n",
        "    with pdfplumber.open(pdf_path) as pdf:\n",
        "        table = pdf.pages[page_number - 1].extract_table()\n",
        "    return pd.DataFrame(table[1:], columns=table[0])\n",
        "\n",
        "table_data = extract_table_from_pdf(\"downloaded_pdf.pdf\", 6)\n"
      ],
      "metadata": {
        "id": "WzyhLTk1IeH1"
      },
      "execution_count": 18,
      "outputs": []
    },
    {
      "cell_type": "code",
      "source": [
        "print(table_data)"
      ],
      "metadata": {
        "id": "VU-48p98I3SB",
        "colab": {
          "base_uri": "https://localhost:8080/"
        },
        "outputId": "19782cbe-a6cd-4dd5-8ea9-eda0bbc1fd06"
      },
      "execution_count": 19,
      "outputs": [
        {
          "output_type": "stream",
          "name": "stdout",
          "text": [
            "                                                Year      2010      2011  \\\n",
            "0                                     All Industries  26093515  27535971   \n",
            "1                                      Manufacturing   4992521   5581942   \n",
            "2  Finance,\\nInsurance, Real\\nEstate, Rental,\\nLe...   4522451   4618678   \n",
            "3  Arts,\\nEntertainment,\\nRecreation,\\nAccommodat...    964032   1015238   \n",
            "4                                              Other  15614511  16320113   \n",
            "\n",
            "       2012      2013      2014      2015  \n",
            "0  28663246  29601191  30895407  31397023  \n",
            "1   5841608   5953299   6047477   5829554  \n",
            "2   4797313   5031881   5339678   5597018  \n",
            "3   1076249   1120496   1189646   1283813  \n",
            "4  16948076  17495515  18318606  18686638  \n"
          ]
        }
      ]
    },
    {
      "cell_type": "code",
      "source": [],
      "metadata": {
        "id": "9Z3LGeWxRPCn"
      },
      "execution_count": 19,
      "outputs": []
    },
    {
      "cell_type": "code",
      "source": [],
      "metadata": {
        "id": "1PSoLaf9RPF1"
      },
      "execution_count": 19,
      "outputs": []
    }
  ]
}